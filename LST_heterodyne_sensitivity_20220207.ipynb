{
 "cells": [
  {
   "cell_type": "markdown",
   "id": "c12ae9a0",
   "metadata": {},
   "source": [
    "# LST heterodyne camera sensitivity calculator\n",
    "- This script calculates the mapping speed (i.e., observing time for a 1-deg^2 area for given parameters) \n",
    "- The frequency coverage is assumed to be 84 - 500 GHz, 600 - 720, and 780 - 850 GHz \n",
    "    - note: atmospheric transmission is very low at 500 - 600 GHz and 720 - 780 GHz\n",
    "- The full aperture (D = 50 m) will be used for observation up to 500 GHz\n",
    "- For observations in high-frequency (f > 600 GHz), the inner 30-m aperture will be used.   \n",
    "- To execute, select each cell and type \"Shift+Enter\"\n",
    "- The download link for the CSV file will appear in some calculations."
   ]
  },
  {
   "cell_type": "markdown",
   "id": "78a58417",
   "metadata": {},
   "source": [
    "## Parameters for mapping observations with heterodyne receiver array\n",
    "- Please modify parameters as needed for your science cases."
   ]
  },
  {
   "cell_type": "code",
   "execution_count": 1,
   "id": "1861c960",
   "metadata": {},
   "outputs": [],
   "source": [
    "dV = 0.3               # velocity resolution in km/s\n",
    "N_beam = 100.          # number of beams\n",
    "dTa_des = 0.3          # desired sensitivity in K"
   ]
  },
  {
   "cell_type": "markdown",
   "id": "7aac55c2",
   "metadata": {},
   "source": [
    "## loading packeges"
   ]
  },
  {
   "cell_type": "code",
   "execution_count": 2,
   "id": "7bdd728a",
   "metadata": {},
   "outputs": [
    {
     "ename": "SyntaxError",
     "evalue": "invalid syntax (<ipython-input-2-c133020ada8a>, line 4)",
     "output_type": "error",
     "traceback": [
      "\u001b[0;36m  File \u001b[0;32m\"<ipython-input-2-c133020ada8a>\"\u001b[0;36m, line \u001b[0;32m4\u001b[0m\n\u001b[0;31m    import heterodyne-sensitivity as hs\u001b[0m\n\u001b[0m                     ^\u001b[0m\n\u001b[0;31mSyntaxError\u001b[0m\u001b[0;31m:\u001b[0m invalid syntax\n"
     ]
    }
   ],
   "source": [
    "!pip install -q \"deshima-sensitivity==0.4.0\"\n",
    "!pip install git+https://github.com/ishiishun/heterodyne-sensitivity/\n",
    "import pandas as pd\n",
    "import heterodyne_sensitivity.LST_heterodyne_sensitivity_package as hs\n",
    "# others \n",
    "c = 2.99792458e8 #m/s\n",
    "EL = 60. #deg."
   ]
  },
  {
   "cell_type": "markdown",
   "id": "e787d7bd",
   "metadata": {},
   "source": [
    "## System noise tempereture"
   ]
  },
  {
   "cell_type": "code",
   "execution_count": null,
   "id": "3fedefa1",
   "metadata": {},
   "outputs": [],
   "source": [
    "df_Tsyss = hs.load_Tsys()\n",
    "hs.PlotTsys(df_Tsyss)"
   ]
  },
  {
   "cell_type": "markdown",
   "id": "03f6e501",
   "metadata": {},
   "source": [
    "##  Angular resolution (HPBW) in arcsec\n",
    "- blue: HPBW of the full aperture of LST \n",
    "- gren: HPBW of the inner 30-m aperture of LST for high-frequency (> 600 GHz) observations"
   ]
  },
  {
   "cell_type": "code",
   "execution_count": null,
   "id": "d88a5179",
   "metadata": {
    "colab": {
     "base_uri": "https://localhost:8080/",
     "height": 441
    },
    "executionInfo": {
     "elapsed": 1531,
     "status": "ok",
     "timestamp": 1641493977820,
     "user": {
      "displayName": "Shun Ishii",
      "photoUrl": "https://lh3.googleusercontent.com/a-/AOh14Gi2I3x4aJj9EpWetr1bjjNa2HvL_mELS_9QBPOifQ=s64",
      "userId": "08670563141172931662"
     },
     "user_tz": -540
    },
    "id": "d88a5179",
    "outputId": "912eabf7-03c7-4c2a-c282-56bd951fec98"
   },
   "outputs": [],
   "source": [
    "hs.PlotHPBW_LST()"
   ]
  },
  {
   "cell_type": "markdown",
   "id": "ccce7152",
   "metadata": {},
   "source": [
    "## Calculation of the mapping spped: time of a 1 deg^2 area mapping for given parameters"
   ]
  },
  {
   "cell_type": "code",
   "execution_count": null,
   "id": "2b8b48d0",
   "metadata": {
    "executionInfo": {
     "elapsed": 25,
     "status": "ok",
     "timestamp": 1641493977823,
     "user": {
      "displayName": "Shun Ishii",
      "photoUrl": "https://lh3.googleusercontent.com/a-/AOh14Gi2I3x4aJj9EpWetr1bjjNa2HvL_mELS_9QBPOifQ=s64",
      "userId": "08670563141172931662"
     },
     "user_tz": -540
    },
    "id": "2b8b48d0"
   },
   "outputs": [],
   "source": [
    "df_dTa, N_beam, t_dump, dTa_des = hs.get_dTa(df_Tsyss, dV = dV, N_beam = N_beam, dTa_des = dTa_des) "
   ]
  },
  {
   "cell_type": "markdown",
   "id": "41e95c03",
   "metadata": {},
   "source": [
    "## Emission lines to be plotted and listed "
   ]
  },
  {
   "cell_type": "code",
   "execution_count": null,
   "id": "51195a5c",
   "metadata": {},
   "outputs": [],
   "source": [
    "lines = {\n",
    "    'CO(1-0)': 115.271,\n",
    "    'CO(2-1)': 230.538,\n",
    "    'CO(3-2)': 345.796, \n",
    "    'CO(4-3)': 461.04077,\n",
    "    'CO(6-5)': 691.47308,\n",
    "    'CO(7-6)': 806.65181,\n",
    "    '13CO(1-0)': 110.201,\n",
    "    '13CO(2-1)': 220.399,\n",
    "    '13CO(3-2)': 330.588,\n",
    "    '13CO(4-3)': 440.765,\n",
    "    '13CO(6-5)': 661.067,\n",
    "    '13CO(7-6)': 771.184,\n",
    "    'C18O(1-0)': 109.782,\n",
    "    'C18O(2-1)': 219.56,\n",
    "    'C18O(3-2)': 329.331,\n",
    "    'C18O(4-3)': 439.089,\n",
    "    'C18O(6-5)': 658.553,\n",
    "    'C18O(7-6)': 768.251,\n",
    "    'CS(2-1)': 97.980,\n",
    "    'CS(3-2)': 146.969,\n",
    "    'CS(4-3)': 195.954,\n",
    "    'CS(5-4)': 244.953,\n",
    "    'CS(6-5)': 293.912,\n",
    "    'CS(7-6)': 342.882,\n",
    "    'HCN(1-0)': 88.631,\n",
    "    'HCN(2-1)': 177.261,\n",
    "    'HCN(3-2)': 265.886,\n",
    "    'HCN(4-3)': 354.505,\n",
    "    'HCN(5-4)': 443.116,\n",
    "    'CI(1-0)': 492.160,\n",
    "    'CI(2-1)': 809.3\n",
    "    }"
   ]
  },
  {
   "cell_type": "markdown",
   "id": "1c89b978",
   "metadata": {},
   "source": [
    "## Checking the list"
   ]
  },
  {
   "cell_type": "code",
   "execution_count": null,
   "id": "cde7e599",
   "metadata": {},
   "outputs": [],
   "source": [
    "df_lines = hs.make_df_lines_low(lines, df_dTa)"
   ]
  },
  {
   "cell_type": "markdown",
   "id": "d8d04835",
   "metadata": {},
   "source": [
    "## Plot of the mapping speed with the lines up to 400 GHz"
   ]
  },
  {
   "cell_type": "code",
   "execution_count": null,
   "id": "7b559caa",
   "metadata": {},
   "outputs": [],
   "source": [
    "hs.PlotSurveySpeed(df_dTa, N_beam, dTa_des, dV, df_lines)"
   ]
  },
  {
   "cell_type": "markdown",
   "id": "0928afbe",
   "metadata": {},
   "source": [
    "## Plot of the mapping spded with the lines 350 - 500 GHz"
   ]
  },
  {
   "cell_type": "code",
   "execution_count": 3,
   "id": "82fa6d59",
   "metadata": {},
   "outputs": [
    {
     "ename": "NameError",
     "evalue": "name 'hs' is not defined",
     "output_type": "error",
     "traceback": [
      "\u001b[0;31m---------------------------------------------------------------------------\u001b[0m",
      "\u001b[0;31mNameError\u001b[0m                                 Traceback (most recent call last)",
      "\u001b[0;32m<ipython-input-3-f2a38ebc2fb7>\u001b[0m in \u001b[0;36m<module>\u001b[0;34m\u001b[0m\n\u001b[0;32m----> 1\u001b[0;31m \u001b[0mhs\u001b[0m\u001b[0;34m.\u001b[0m\u001b[0mPlotSurveySpeed2\u001b[0m\u001b[0;34m(\u001b[0m\u001b[0mdf_dTa\u001b[0m\u001b[0;34m,\u001b[0m \u001b[0mN_beam\u001b[0m\u001b[0;34m,\u001b[0m \u001b[0mdTa_des\u001b[0m\u001b[0;34m,\u001b[0m \u001b[0mdV\u001b[0m\u001b[0;34m,\u001b[0m \u001b[0mdf_lines\u001b[0m\u001b[0;34m)\u001b[0m\u001b[0;34m\u001b[0m\u001b[0;34m\u001b[0m\u001b[0m\n\u001b[0m",
      "\u001b[0;31mNameError\u001b[0m: name 'hs' is not defined"
     ]
    }
   ],
   "source": [
    "hs.PlotSurveySpeed2(df_dTa, N_beam, dTa_des, dV, df_lines)"
   ]
  },
  {
   "cell_type": "markdown",
   "id": "b9b9792c",
   "metadata": {},
   "source": [
    "## Plot of the mapping spped at high-frequency (600 GHz) with the inner 30-m dish"
   ]
  },
  {
   "cell_type": "code",
   "execution_count": null,
   "id": "22b6ea07",
   "metadata": {},
   "outputs": [],
   "source": [
    "hs.PlotSurveySpeedHigh(df_dTa, N_beam, dTa_des, dV, df_lines)"
   ]
  },
  {
   "cell_type": "markdown",
   "id": "ae03319f",
   "metadata": {},
   "source": [
    "## Show summary "
   ]
  },
  {
   "cell_type": "code",
   "execution_count": null,
   "id": "f0de6295",
   "metadata": {},
   "outputs": [],
   "source": [
    "hs.export_list(df_lines)"
   ]
  }
 ],
 "metadata": {
  "colab": {
   "collapsed_sections": [],
   "name": "LST_heterodyne_sensitivity.ipynb",
   "provenance": []
  },
  "kernelspec": {
   "display_name": "Python 3",
   "language": "python",
   "name": "python3"
  },
  "language_info": {
   "codemirror_mode": {
    "name": "ipython",
    "version": 3
   },
   "file_extension": ".py",
   "mimetype": "text/x-python",
   "name": "python",
   "nbconvert_exporter": "python",
   "pygments_lexer": "ipython3",
   "version": "3.8.8"
  }
 },
 "nbformat": 4,
 "nbformat_minor": 5
}
